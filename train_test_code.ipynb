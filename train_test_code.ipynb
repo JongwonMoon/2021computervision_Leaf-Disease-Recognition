{
  "nbformat": 4,
  "nbformat_minor": 0,
  "metadata": {
    "colab": {
      "name": "병충해인식.ipynb",
      "private_outputs": true,
      "provenance": []
    },
    "kernelspec": {
      "name": "python3",
      "display_name": "Python 3"
    },
    "language_info": {
      "name": "python"
    },
    "accelerator": "GPU"
  },
  "cells": [
    {
      "cell_type": "code",
      "metadata": {
        "id": "4slmZ-qr60xq"
      },
      "source": [
        "import os, sys \n",
        "from google.colab import drive \n",
        "drive.mount('/content/drive') \n",
        "#nb_path = '/content/notebooks' \n",
        "#os.symlink('/content/mnt/My Drive/Colab Notebooks', nb_path) \n",
        "#sys.path.insert(0, nb_path)"
      ],
      "execution_count": null,
      "outputs": []
    },
    {
      "cell_type": "code",
      "metadata": {
        "id": "Vk8w6xXRQpJf"
      },
      "source": [
        "import os\n",
        "from tensorflow.keras.preprocessing.image import ImageDataGenerator\n",
        "import numpy as np\n",
        "import pandas as pd\n",
        "from tensorflow.keras.applications import ResNet50\n",
        "from tensorflow.keras.models import Sequential\n",
        "from tensorflow.keras import layers"
      ],
      "execution_count": null,
      "outputs": []
    },
    {
      "cell_type": "code",
      "metadata": {
        "id": "9Koka8CyQzbn"
      },
      "source": [
        "rootPath = '/content/drive/MyDrive/컴퓨터비전2021-2/vision'"
      ],
      "execution_count": null,
      "outputs": []
    },
    {
      "cell_type": "code",
      "metadata": {
        "id": "7faPRSKnQ2l4"
      },
      "source": [
        "def get_random_eraser(p=0.5, s_l=0.02, s_h=0.4, r_1=0.3, r_2=1/0.3, v_l=0, v_h=255, pixel_level=False):\n",
        "    def eraser(input_img):\n",
        "        img_h, img_w, img_c = input_img.shape\n",
        "        p_1 = np.random.rand()\n",
        "\n",
        "        if p_1 > p:\n",
        "            return input_img\n",
        "\n",
        "        while True:\n",
        "            s = np.random.uniform(s_l, s_h) * img_h * img_w\n",
        "            r = np.random.uniform(r_1, r_2)\n",
        "            w = int(np.sqrt(s / r))\n",
        "            h = int(np.sqrt(s * r))\n",
        "            left = np.random.randint(0, img_w)\n",
        "            top = np.random.randint(0, img_h)\n",
        "\n",
        "            if left + w <= img_w and top + h <= img_h:\n",
        "                break\n",
        "\n",
        "        if pixel_level:\n",
        "            c = np.random.uniform(v_l, v_h, (h, w, img_c))\n",
        "        else:\n",
        "            c = np.random.uniform(v_l, v_h)\n",
        "\n",
        "        input_img[top:top + h, left:left + w, :] = c\n",
        "\n",
        "        return input_img\n",
        "\n",
        "    return eraser"
      ],
      "execution_count": null,
      "outputs": []
    },
    {
      "cell_type": "code",
      "metadata": {
        "id": "FbUEc5Q1Q4Rg"
      },
      "source": [
        "# 이미지 각도변화, 수평 좌우전환, 랜덤으로 영상안에 사각형을 그려 삭제, validation data 10%사용\n",
        "imageGenerator = ImageDataGenerator(\n",
        "    rotation_range=20,\n",
        "    horizontal_flip=True,\n",
        "    preprocessing_function = get_random_eraser(v_l=0, v_h=255),\n",
        "    validation_split=.1\n",
        ")"
      ],
      "execution_count": null,
      "outputs": []
    },
    {
      "cell_type": "code",
      "metadata": {
        "id": "JbmWh2bmQ543"
      },
      "source": [
        "# 훈련 데이터 영상을 100x100 으로 resize\n",
        "trainGen = imageGenerator.flow_from_directory(\n",
        "    os.path.join(rootPath, 'training_set'),\n",
        "    target_size=(100, 100),\n",
        "    subset='training'\n",
        ")"
      ],
      "execution_count": null,
      "outputs": []
    },
    {
      "cell_type": "code",
      "metadata": {
        "id": "7rJF6lB6Q-oO"
      },
      "source": [
        "# 검증 데이터 영상을 100x100 으로 resize\n",
        "validationGen = imageGenerator.flow_from_directory(\n",
        "    os.path.join(rootPath, 'training_set'),\n",
        "    target_size=(100, 100),\n",
        "    subset='validation'\n",
        ")"
      ],
      "execution_count": null,
      "outputs": []
    },
    {
      "cell_type": "markdown",
      "metadata": {
        "id": "DvkgZp4LAqow"
      },
      "source": [
        "모델구성"
      ]
    },
    {
      "cell_type": "code",
      "metadata": {
        "id": "Y_6-9lRXAo9v"
      },
      "source": [
        "# resnet50 모델을 불러와 사용.\n",
        "model = Sequential()\n",
        "model.add(ResNet50(include_top=True, weights=None, input_shape=(100, 100, 3), classes=3))\n",
        "\n",
        "model.summary()"
      ],
      "execution_count": null,
      "outputs": []
    },
    {
      "cell_type": "code",
      "metadata": {
        "id": "U7L5apxpAtlH"
      },
      "source": [
        "model.compile(\n",
        "    optimizer='adam',\n",
        "    #loss='binary_crossentropy', \n",
        "    loss = 'categorical_crossentropy',\n",
        "    metrics=['acc'],\n",
        ")"
      ],
      "execution_count": null,
      "outputs": []
    },
    {
      "cell_type": "code",
      "metadata": {
        "id": "ZKAv96Czhp8m"
      },
      "source": [
        "epochs = 30\n",
        "history = model.fit_generator(\n",
        "    trainGen, \n",
        "    epochs=epochs,\n",
        "    steps_per_epoch=trainGen.samples / epochs, \n",
        "    validation_data=validationGen,\n",
        "    validation_steps=validationGen.samples / epochs,\n",
        ")"
      ],
      "execution_count": null,
      "outputs": []
    },
    {
      "cell_type": "code",
      "metadata": {
        "id": "u7H5pdhZAvXn"
      },
      "source": [
        "testGen = imageGenerator.flow_from_directory(\n",
        "    os.path.join(rootPath, 'test_set'),\n",
        "    target_size=(100, 100),\n",
        ")"
      ],
      "execution_count": null,
      "outputs": []
    },
    {
      "cell_type": "code",
      "metadata": {
        "id": "TBTz_ynOAxiA"
      },
      "source": [
        "pred = model.predict(testGen)"
      ],
      "execution_count": null,
      "outputs": []
    },
    {
      "cell_type": "code",
      "metadata": {
        "id": "4ziIIbV0AynQ"
      },
      "source": [
        "img_list = testGen.filenames"
      ],
      "execution_count": null,
      "outputs": []
    },
    {
      "cell_type": "code",
      "metadata": {
        "id": "3kG3lJJzAzzi"
      },
      "source": [
        "pred_list = []\n",
        "for i in range(len(pred)):\n",
        "    pred_list.append(np.argmax(pred[i]))\n",
        "print(pred_list)"
      ],
      "execution_count": null,
      "outputs": []
    },
    {
      "cell_type": "code",
      "metadata": {
        "id": "Qr-lHALaA08S"
      },
      "source": [
        "df = pd.DataFrame(list(zip(img_list, pred_list)), columns =['Name', 'pred'])"
      ],
      "execution_count": null,
      "outputs": []
    },
    {
      "cell_type": "code",
      "metadata": {
        "id": "f7JwuxhbA8oE"
      },
      "source": [
        "df.to_csv('submission.csv', index=False)"
      ],
      "execution_count": null,
      "outputs": []
    },
    {
      "cell_type": "code",
      "metadata": {
        "id": "osQ32P56A-3W"
      },
      "source": [
        "print(\"정확도 :\", model.evaluate_generator(testGen)[1])"
      ],
      "execution_count": null,
      "outputs": []
    },
    {
      "cell_type": "code",
      "metadata": {
        "id": "zVSejkeDfRoN"
      },
      "source": [
        "print(df)"
      ],
      "execution_count": null,
      "outputs": []
    },
    {
      "cell_type": "code",
      "metadata": {
        "id": "IPlfBzrBfgBu"
      },
      "source": [
        ""
      ],
      "execution_count": null,
      "outputs": []
    }
  ]
}